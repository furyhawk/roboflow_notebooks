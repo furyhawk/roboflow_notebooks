{
  "cells": [
    {
      "cell_type": "markdown",
      "metadata": {
        "id": "WjH90uY3Cd0E"
      },
      "source": [
        "[![Roboflow Notebooks](https://media.roboflow.com/notebooks/template/bannertest2-2.png?ik-sdk-version=javascript-1.4.3&updatedAt=1672932710194)](https://github.com/roboflow/notebooks)\n",
        "\n",
        "# How to Use PolygonZone and Roboflow Supervision\n",
        "\n",
        "In this notebook, you will use [PolygonZone](https://roboflow.github.io/polygonzone/) with [Roboflow Supervision](https://roboflow.com/supervision) to draw polygons on a video frame. These polygons will be used as zones in which predictions will be grouped.\n",
        "\n",
        "This notebook accompanies the \"Calculate Polygon Coordinates with PolygonZone\" tutorial on the Roboflow blog.\n",
        "\n",
        "## Pro Tip: Use GPU Acceleration\n",
        "\n",
        "If you are running this notebook in Google Colab, navigate to `Edit` -> `Notebook settings` -> `Hardware accelerator`, set it to `GPU`, and then click `Save`. This will ensure your notebook uses a GPU, which will significantly speed up model training times.\n",
        "\n",
        "## Steps in this Tutorial\n",
        "\n",
        "In this guide, we will:\n",
        "\n",
        "1. Install supervision and YOLOv8.\n",
        "2. Prepare polygon zones for a traffic video.\n",
        "3. Run inference on a traffic video.\n",
        "4. Save the results of inference to a file.\n",
        "\n",
        "**Let's begin!**"
      ]
    },
    {
      "cell_type": "markdown",
      "metadata": {
        "id": "HOY6fEpqHozP"
      },
      "source": [
        "## Install Dependencies and Retrieve Video\n",
        "\n",
        "Install the required dependencies for this project. We'll be using Ultralytics' YOLOv8 model for inference, and Supervision for drawing our polygons and calculating how many objects appear in each annotated zone."
      ]
    },
    {
      "cell_type": "code",
      "execution_count": 11,
      "metadata": {
        "colab": {
          "base_uri": "https://localhost:8080/"
        },
        "id": "KhblEdYHCZ3R",
        "outputId": "5495a54c-18de-46b6-dc8f-d5a6980cefb0"
      },
      "outputs": [
        {
          "name": "stdout",
          "output_type": "stream",
          "text": [
            "Checking available package managers...\n",
            "✅ UV available: uv 0.7.9\n",
            "Installing packages with uv...\n"
          ]
        },
        {
          "name": "stderr",
          "output_type": "stream",
          "text": [
            "\u001b[2mResolved \u001b[1m88 packages\u001b[0m \u001b[2min 163ms\u001b[0m\u001b[0m\n",
            "\u001b[36m\u001b[1mDownloading\u001b[0m\u001b[39m pandas \u001b[2m(11.4MiB)\u001b[0m\n",
            "\u001b[36m\u001b[1mDownloading\u001b[0m\u001b[39m torchvision \u001b[2m(7.1MiB)\u001b[0m\n",
            " \u001b[32m\u001b[1mDownloading\u001b[0m\u001b[39m torchvision\n",
            " \u001b[32m\u001b[1mDownloading\u001b[0m\u001b[39m pandas\n",
            "\u001b[2mPrepared \u001b[1m10 packages\u001b[0m \u001b[2min 498ms\u001b[0m\u001b[0m\n",
            " \u001b[32m\u001b[1mDownloading\u001b[0m\u001b[39m torchvision\n",
            " \u001b[32m\u001b[1mDownloading\u001b[0m\u001b[39m pandas\n",
            "\u001b[2mPrepared \u001b[1m10 packages\u001b[0m \u001b[2min 498ms\u001b[0m\u001b[0m\n",
            "\u001b[2mInstalled \u001b[1m44 packages\u001b[0m \u001b[2min 145ms\u001b[0m\u001b[0m\n",
            " \u001b[32m+\u001b[39m \u001b[1mcertifi\u001b[0m\u001b[2m==2025.7.14\u001b[0m\n",
            " \u001b[32m+\u001b[39m \u001b[1mcharset-normalizer\u001b[0m\u001b[2m==3.4.2\u001b[0m\n",
            " \u001b[32m+\u001b[39m \u001b[1mdefusedxml\u001b[0m\u001b[2m==0.7.1\u001b[0m\n",
            " \u001b[32m+\u001b[39m \u001b[1mfilelock\u001b[0m\u001b[2m==3.18.0\u001b[0m\n",
            " \u001b[32m+\u001b[39m \u001b[1mfsspec\u001b[0m\u001b[2m==2025.7.0\u001b[0m\n",
            " \u001b[32m+\u001b[39m \u001b[1midna\u001b[0m\u001b[2m==3.10\u001b[0m\n",
            " \u001b[32m+\u001b[39m \u001b[1mjinja2\u001b[0m\u001b[2m==3.1.6\u001b[0m\n",
            " \u001b[32m+\u001b[39m \u001b[1mmarkupsafe\u001b[0m\u001b[2m==3.0.2\u001b[0m\n",
            " \u001b[32m+\u001b[39m \u001b[1mmpmath\u001b[0m\u001b[2m==1.3.0\u001b[0m\n",
            " \u001b[32m+\u001b[39m \u001b[1mnetworkx\u001b[0m\u001b[2m==3.5\u001b[0m\n",
            " \u001b[32m+\u001b[39m \u001b[1mnvidia-cublas-cu12\u001b[0m\u001b[2m==12.6.4.1\u001b[0m\n",
            " \u001b[32m+\u001b[39m \u001b[1mnvidia-cuda-cupti-cu12\u001b[0m\u001b[2m==12.6.80\u001b[0m\n",
            " \u001b[32m+\u001b[39m \u001b[1mnvidia-cuda-nvrtc-cu12\u001b[0m\u001b[2m==12.6.77\u001b[0m\n",
            " \u001b[32m+\u001b[39m \u001b[1mnvidia-cuda-runtime-cu12\u001b[0m\u001b[2m==12.6.77\u001b[0m\n",
            " \u001b[32m+\u001b[39m \u001b[1mnvidia-cudnn-cu12\u001b[0m\u001b[2m==9.5.1.17\u001b[0m\n",
            " \u001b[32m+\u001b[39m \u001b[1mnvidia-cufft-cu12\u001b[0m\u001b[2m==11.3.0.4\u001b[0m\n",
            " \u001b[32m+\u001b[39m \u001b[1mnvidia-cufile-cu12\u001b[0m\u001b[2m==1.11.1.6\u001b[0m\n",
            " \u001b[32m+\u001b[39m \u001b[1mnvidia-curand-cu12\u001b[0m\u001b[2m==10.3.7.77\u001b[0m\n",
            " \u001b[32m+\u001b[39m \u001b[1mnvidia-cusolver-cu12\u001b[0m\u001b[2m==11.7.1.2\u001b[0m\n",
            " \u001b[32m+\u001b[39m \u001b[1mnvidia-cusparse-cu12\u001b[0m\u001b[2m==12.5.4.2\u001b[0m\n",
            " \u001b[32m+\u001b[39m \u001b[1mnvidia-cusparselt-cu12\u001b[0m\u001b[2m==0.6.3\u001b[0m\n",
            " \u001b[32m+\u001b[39m \u001b[1mnvidia-nccl-cu12\u001b[0m\u001b[2m==2.26.2\u001b[0m\n",
            " \u001b[32m+\u001b[39m \u001b[1mnvidia-nvjitlink-cu12\u001b[0m\u001b[2m==12.6.85\u001b[0m\n",
            " \u001b[32m+\u001b[39m \u001b[1mnvidia-nvtx-cu12\u001b[0m\u001b[2m==12.6.77\u001b[0m\n",
            " \u001b[32m+\u001b[39m \u001b[1mopencv-python\u001b[0m\u001b[2m==4.11.0.86\u001b[0m\n",
            " \u001b[32m+\u001b[39m \u001b[1mpandas\u001b[0m\u001b[2m==2.3.1\u001b[0m\n",
            " \u001b[32m+\u001b[39m \u001b[1mpy-cpuinfo\u001b[0m\u001b[2m==9.0.0\u001b[0m\n",
            " \u001b[32m+\u001b[39m \u001b[1mpytz\u001b[0m\u001b[2m==2025.2\u001b[0m\n",
            " \u001b[32m+\u001b[39m \u001b[1mpyyaml\u001b[0m\u001b[2m==6.0.2\u001b[0m\n",
            " \u001b[32m+\u001b[39m \u001b[1mrequests\u001b[0m\u001b[2m==2.32.4\u001b[0m\n",
            " \u001b[32m+\u001b[39m \u001b[1mscipy\u001b[0m\u001b[2m==1.16.0\u001b[0m\n",
            " \u001b[32m+\u001b[39m \u001b[1mseaborn\u001b[0m\u001b[2m==0.13.2\u001b[0m\n",
            " \u001b[32m+\u001b[39m \u001b[1msetuptools\u001b[0m\u001b[2m==80.9.0\u001b[0m\n",
            " \u001b[32m+\u001b[39m \u001b[1msupervision\u001b[0m\u001b[2m==0.26.0\u001b[0m\n",
            " \u001b[32m+\u001b[39m \u001b[1msympy\u001b[0m\u001b[2m==1.14.0\u001b[0m\n",
            " \u001b[32m+\u001b[39m \u001b[1mtorch\u001b[0m\u001b[2m==2.7.1\u001b[0m\n",
            " \u001b[32m+\u001b[39m \u001b[1mtorchvision\u001b[0m\u001b[2m==0.22.1\u001b[0m\n",
            " \u001b[32m+\u001b[39m \u001b[1mtqdm\u001b[0m\u001b[2m==4.67.1\u001b[0m\n",
            " \u001b[32m+\u001b[39m \u001b[1mtriton\u001b[0m\u001b[2m==3.3.1\u001b[0m\n",
            " \u001b[32m+\u001b[39m \u001b[1mtyping-extensions\u001b[0m\u001b[2m==4.14.1\u001b[0m\n",
            " \u001b[32m+\u001b[39m \u001b[1mtzdata\u001b[0m\u001b[2m==2025.2\u001b[0m\n",
            " \u001b[32m+\u001b[39m \u001b[1multralytics\u001b[0m\u001b[2m==8.3.40\u001b[0m\n",
            " \u001b[32m+\u001b[39m \u001b[1multralytics-thop\u001b[0m\u001b[2m==2.0.14\u001b[0m\n",
            " \u001b[32m+\u001b[39m \u001b[1murllib3\u001b[0m\u001b[2m==2.5.0\u001b[0m\n",
            "\u001b[2mInstalled \u001b[1m44 packages\u001b[0m \u001b[2min 145ms\u001b[0m\u001b[0m\n",
            " \u001b[32m+\u001b[39m \u001b[1mcertifi\u001b[0m\u001b[2m==2025.7.14\u001b[0m\n",
            " \u001b[32m+\u001b[39m \u001b[1mcharset-normalizer\u001b[0m\u001b[2m==3.4.2\u001b[0m\n",
            " \u001b[32m+\u001b[39m \u001b[1mdefusedxml\u001b[0m\u001b[2m==0.7.1\u001b[0m\n",
            " \u001b[32m+\u001b[39m \u001b[1mfilelock\u001b[0m\u001b[2m==3.18.0\u001b[0m\n",
            " \u001b[32m+\u001b[39m \u001b[1mfsspec\u001b[0m\u001b[2m==2025.7.0\u001b[0m\n",
            " \u001b[32m+\u001b[39m \u001b[1midna\u001b[0m\u001b[2m==3.10\u001b[0m\n",
            " \u001b[32m+\u001b[39m \u001b[1mjinja2\u001b[0m\u001b[2m==3.1.6\u001b[0m\n",
            " \u001b[32m+\u001b[39m \u001b[1mmarkupsafe\u001b[0m\u001b[2m==3.0.2\u001b[0m\n",
            " \u001b[32m+\u001b[39m \u001b[1mmpmath\u001b[0m\u001b[2m==1.3.0\u001b[0m\n",
            " \u001b[32m+\u001b[39m \u001b[1mnetworkx\u001b[0m\u001b[2m==3.5\u001b[0m\n",
            " \u001b[32m+\u001b[39m \u001b[1mnvidia-cublas-cu12\u001b[0m\u001b[2m==12.6.4.1\u001b[0m\n",
            " \u001b[32m+\u001b[39m \u001b[1mnvidia-cuda-cupti-cu12\u001b[0m\u001b[2m==12.6.80\u001b[0m\n",
            " \u001b[32m+\u001b[39m \u001b[1mnvidia-cuda-nvrtc-cu12\u001b[0m\u001b[2m==12.6.77\u001b[0m\n",
            " \u001b[32m+\u001b[39m \u001b[1mnvidia-cuda-runtime-cu12\u001b[0m\u001b[2m==12.6.77\u001b[0m\n",
            " \u001b[32m+\u001b[39m \u001b[1mnvidia-cudnn-cu12\u001b[0m\u001b[2m==9.5.1.17\u001b[0m\n",
            " \u001b[32m+\u001b[39m \u001b[1mnvidia-cufft-cu12\u001b[0m\u001b[2m==11.3.0.4\u001b[0m\n",
            " \u001b[32m+\u001b[39m \u001b[1mnvidia-cufile-cu12\u001b[0m\u001b[2m==1.11.1.6\u001b[0m\n",
            " \u001b[32m+\u001b[39m \u001b[1mnvidia-curand-cu12\u001b[0m\u001b[2m==10.3.7.77\u001b[0m\n",
            " \u001b[32m+\u001b[39m \u001b[1mnvidia-cusolver-cu12\u001b[0m\u001b[2m==11.7.1.2\u001b[0m\n",
            " \u001b[32m+\u001b[39m \u001b[1mnvidia-cusparse-cu12\u001b[0m\u001b[2m==12.5.4.2\u001b[0m\n",
            " \u001b[32m+\u001b[39m \u001b[1mnvidia-cusparselt-cu12\u001b[0m\u001b[2m==0.6.3\u001b[0m\n",
            " \u001b[32m+\u001b[39m \u001b[1mnvidia-nccl-cu12\u001b[0m\u001b[2m==2.26.2\u001b[0m\n",
            " \u001b[32m+\u001b[39m \u001b[1mnvidia-nvjitlink-cu12\u001b[0m\u001b[2m==12.6.85\u001b[0m\n",
            " \u001b[32m+\u001b[39m \u001b[1mnvidia-nvtx-cu12\u001b[0m\u001b[2m==12.6.77\u001b[0m\n",
            " \u001b[32m+\u001b[39m \u001b[1mopencv-python\u001b[0m\u001b[2m==4.11.0.86\u001b[0m\n",
            " \u001b[32m+\u001b[39m \u001b[1mpandas\u001b[0m\u001b[2m==2.3.1\u001b[0m\n",
            " \u001b[32m+\u001b[39m \u001b[1mpy-cpuinfo\u001b[0m\u001b[2m==9.0.0\u001b[0m\n",
            " \u001b[32m+\u001b[39m \u001b[1mpytz\u001b[0m\u001b[2m==2025.2\u001b[0m\n",
            " \u001b[32m+\u001b[39m \u001b[1mpyyaml\u001b[0m\u001b[2m==6.0.2\u001b[0m\n",
            " \u001b[32m+\u001b[39m \u001b[1mrequests\u001b[0m\u001b[2m==2.32.4\u001b[0m\n",
            " \u001b[32m+\u001b[39m \u001b[1mscipy\u001b[0m\u001b[2m==1.16.0\u001b[0m\n",
            " \u001b[32m+\u001b[39m \u001b[1mseaborn\u001b[0m\u001b[2m==0.13.2\u001b[0m\n",
            " \u001b[32m+\u001b[39m \u001b[1msetuptools\u001b[0m\u001b[2m==80.9.0\u001b[0m\n",
            " \u001b[32m+\u001b[39m \u001b[1msupervision\u001b[0m\u001b[2m==0.26.0\u001b[0m\n",
            " \u001b[32m+\u001b[39m \u001b[1msympy\u001b[0m\u001b[2m==1.14.0\u001b[0m\n",
            " \u001b[32m+\u001b[39m \u001b[1mtorch\u001b[0m\u001b[2m==2.7.1\u001b[0m\n",
            " \u001b[32m+\u001b[39m \u001b[1mtorchvision\u001b[0m\u001b[2m==0.22.1\u001b[0m\n",
            " \u001b[32m+\u001b[39m \u001b[1mtqdm\u001b[0m\u001b[2m==4.67.1\u001b[0m\n",
            " \u001b[32m+\u001b[39m \u001b[1mtriton\u001b[0m\u001b[2m==3.3.1\u001b[0m\n",
            " \u001b[32m+\u001b[39m \u001b[1mtyping-extensions\u001b[0m\u001b[2m==4.14.1\u001b[0m\n",
            " \u001b[32m+\u001b[39m \u001b[1mtzdata\u001b[0m\u001b[2m==2025.2\u001b[0m\n",
            " \u001b[32m+\u001b[39m \u001b[1multralytics\u001b[0m\u001b[2m==8.3.40\u001b[0m\n",
            " \u001b[32m+\u001b[39m \u001b[1multralytics-thop\u001b[0m\u001b[2m==2.0.14\u001b[0m\n",
            " \u001b[32m+\u001b[39m \u001b[1murllib3\u001b[0m\u001b[2m==2.5.0\u001b[0m\n"
          ]
        },
        {
          "name": "stdout",
          "output_type": "stream",
          "text": [
            "✅ Packages installed successfully with uv!\n",
            "✅ All packages imported successfully!\n",
            "✅ Ultralytics configured successfully!\n",
            "✅ All packages imported successfully!\n",
            "✅ Ultralytics configured successfully!\n"
          ]
        },
        {
          "name": "stderr",
          "output_type": "stream",
          "text": [
            "TqdmWarning: IProgress not found. Please update jupyter and ipywidgets. See https://ipywidgets.readthedocs.io/en/stable/user_install.html\n"
          ]
        }
      ],
      "source": [
        "import subprocess\n",
        "import sys\n",
        "import os\n",
        "\n",
        "# Check what package managers are available\n",
        "print(\"Checking available package managers...\")\n",
        "\n",
        "# Try using uv which is available in the project\n",
        "try:\n",
        "    result = subprocess.run([\"uv\", \"--version\"], capture_output=True, text=True)\n",
        "    if result.returncode == 0:\n",
        "        print(f\"✅ UV available: {result.stdout.strip()}\")\n",
        "        \n",
        "        # Install packages using uv\n",
        "        print(\"Installing packages with uv...\")\n",
        "        subprocess.check_call([\"uv\", \"add\", \"ultralytics<=8.3.40\", \"supervision\"])\n",
        "        print(\"✅ Packages installed successfully with uv!\")\n",
        "        \n",
        "except Exception as e:\n",
        "    print(f\"❌ UV installation failed: {e}\")\n",
        "    \n",
        "    # Fallback: try direct installation without pip\n",
        "    try:\n",
        "        print(\"Trying alternative installation method...\")\n",
        "        import importlib.util\n",
        "        \n",
        "        # Check if packages are already available\n",
        "        ultralytics_spec = importlib.util.find_spec(\"ultralytics\")\n",
        "        supervision_spec = importlib.util.find_spec(\"supervision\")\n",
        "        \n",
        "        if ultralytics_spec and supervision_spec:\n",
        "            print(\"✅ Packages already available!\")\n",
        "        else:\n",
        "            print(\"❌ Packages not found. Manual installation required.\")\n",
        "            \n",
        "    except Exception as e2:\n",
        "        print(f\"❌ Alternative method failed: {e2}\")\n",
        "\n",
        "# Fix matplotlib backend issue\n",
        "os.environ['MPLBACKEND'] = 'Agg'\n",
        "\n",
        "# Test imports\n",
        "try:\n",
        "    import ultralytics\n",
        "    import supervision\n",
        "    print(\"✅ All packages imported successfully!\")\n",
        "    \n",
        "    # Configure ultralytics settings\n",
        "    from ultralytics import settings\n",
        "    settings.update({'sync': False})\n",
        "    print(\"✅ Ultralytics configured successfully!\")\n",
        "    \n",
        "except ImportError as e:\n",
        "    print(f\"❌ Import failed: {e}\")\n",
        "    print(\"Please ensure packages are installed in the environment.\")"
      ]
    },
    {
      "cell_type": "code",
      "execution_count": 15,
      "metadata": {
        "colab": {
          "base_uri": "https://localhost:8080/"
        },
        "id": "YjeceeFOPvwl",
        "outputId": "8f088755-fbb4-487d-c30c-a80ae4ee1012"
      },
      "outputs": [
        {
          "name": "stdout",
          "output_type": "stream",
          "text": [
            "--2025-07-16 14:05:59--  https://docs.google.com/uc?export=download&confirm=&id=1K15ijbTl78VSOPjfvGSgvqh7ME2U7cG2\n",
            "Resolving docs.google.com (docs.google.com)... 74.125.68.138, 74.125.68.102, 74.125.68.101, ...\n",
            "Connecting to docs.google.com (docs.google.com)|74.125.68.138|:443... connected.\n",
            "HTTP request sent, awaiting response... HTTP request sent, awaiting response... 303 See Other\n",
            "Location: https://drive.usercontent.google.com/download?id=1K15ijbTl78VSOPjfvGSgvqh7ME2U7cG2&export=download [following]\n",
            "--2025-07-16 14:05:59--  https://drive.usercontent.google.com/download?id=1K15ijbTl78VSOPjfvGSgvqh7ME2U7cG2&export=download\n",
            "Resolving drive.usercontent.google.com (drive.usercontent.google.com)... 74.125.68.132, 2404:6800:4003:c02::84\n",
            "Connecting to drive.usercontent.google.com (drive.usercontent.google.com)|74.125.68.132|:443... connected.\n",
            "HTTP request sent, awaiting response... 303 See Other\n",
            "Location: https://drive.usercontent.google.com/download?id=1K15ijbTl78VSOPjfvGSgvqh7ME2U7cG2&export=download [following]\n",
            "--2025-07-16 14:05:59--  https://drive.usercontent.google.com/download?id=1K15ijbTl78VSOPjfvGSgvqh7ME2U7cG2&export=download\n",
            "Resolving drive.usercontent.google.com (drive.usercontent.google.com)... 74.125.68.132, 2404:6800:4003:c02::84\n",
            "Connecting to drive.usercontent.google.com (drive.usercontent.google.com)|74.125.68.132|:443... connected.\n",
            "HTTP request sent, awaiting response... 200 OK\n",
            "Length: 29782444 (28M) [video/mp4]\n",
            "Saving to: ‘video.mp4’\n",
            "\n",
            "video.mp4             0%[                    ]       0  --.-KB/s               200 OK\n",
            "Length: 29782444 (28M) [video/mp4]\n",
            "Saving to: ‘video.mp4’\n",
            "\n",
            "video.mp4           100%[===================>]  28.40M  41.2MB/s    in 0.7s    \n",
            "\n",
            "2025-07-16 14:06:03 (41.2 MB/s) - ‘video.mp4’ saved [29782444/29782444]\n",
            "\n",
            "video.mp4           100%[===================>]  28.40M  41.2MB/s    in 0.7s    \n",
            "\n",
            "2025-07-16 14:06:03 (41.2 MB/s) - ‘video.mp4’ saved [29782444/29782444]\n",
            "\n"
          ]
        }
      ],
      "source": [
        "!wget --load-cookies /tmp/cookies.txt \"https://docs.google.com/uc?export=download&confirm=$(wget --quiet --save-cookies /tmp/cookies.txt --keep-session-cookies --no-check-certificate 'https://docs.google.com/uc?export=download&id=1K15ijbTl78VSOPjfvGSgvqh7ME2U7cG2' -O- | sed -rn 's/.*confirm=([0-9A-Za-z_]+).*/\\1\\n/p')&id=1K15ijbTl78VSOPjfvGSgvqh7ME2U7cG2\" -O video.mp4 && rm -rf /tmp/cookies.txt"
      ]
    },
    {
      "cell_type": "markdown",
      "metadata": {
        "id": "-4idu3fOHteH"
      },
      "source": [
        "## Initialize the Model and Video\n",
        "\n",
        "In the code snippet below, we import the required dependencies for our project, initialize a YOLOv8 model, and load a video into our project."
      ]
    },
    {
      "cell_type": "code",
      "execution_count": 14,
      "metadata": {
        "colab": {
          "base_uri": "https://localhost:8080/"
        },
        "id": "p-IiJrLzCSX0",
        "outputId": "a106a9cd-7e9d-4453-8e3a-b6ac4417b2a9"
      },
      "outputs": [
        {
          "name": "stdout",
          "output_type": "stream",
          "text": [
            "Video info: VideoInfo(width=1920, height=1080, fps=29, total_frames=1275)\n"
          ]
        }
      ],
      "source": [
        "import numpy as np\n",
        "import supervision as sv\n",
        "import cv2\n",
        "\n",
        "from ultralytics import YOLO\n",
        "\n",
        "model = YOLO(\"yolov8s.pt\")\n",
        "\n",
        "VIDEO = \"video.mp4\"\n",
        "\n",
        "# Use the correct ColorPalette initialization\n",
        "colors = sv.ColorPalette.DEFAULT\n",
        "\n",
        "# Check if video file exists, if not we'll handle it later\n",
        "try:\n",
        "    video_info = sv.VideoInfo.from_video_path(VIDEO)\n",
        "    print(f\"Video info: {video_info}\")\n",
        "except FileNotFoundError:\n",
        "    print(f\"Video file '{VIDEO}' not found. Please download it first.\")\n",
        "    video_info = None"
      ]
    },
    {
      "cell_type": "markdown",
      "metadata": {
        "id": "_YYn6nyEIAKW"
      },
      "source": [
        "## Save Frame\n",
        "\n",
        "The code snippet below saves the first frame in your video to a file called \"first_frame.png\"."
      ]
    },
    {
      "cell_type": "code",
      "execution_count": 16,
      "metadata": {
        "colab": {
          "base_uri": "https://localhost:8080/"
        },
        "id": "5Xqe4WDHCXJa",
        "outputId": "eddef76c-d270-4f17-ce29-2507272ea2c4"
      },
      "outputs": [
        {
          "data": {
            "text/plain": [
              "True"
            ]
          },
          "execution_count": 16,
          "metadata": {},
          "output_type": "execute_result"
        }
      ],
      "source": [
        "# extract video frame\n",
        "generator = sv.get_video_frames_generator(VIDEO)\n",
        "iterator = iter(generator)\n",
        "\n",
        "frame = next(iterator)\n",
        "\n",
        "# save first frame\n",
        "cv2.imwrite(\"first_frame.png\", frame)"
      ]
    },
    {
      "cell_type": "markdown",
      "metadata": {
        "id": "OzOMO9ZLOpQv"
      },
      "source": [
        "Next, go to [PolygonZone](https://roboflow.github.io/polygonzone/) and draw polygons on your image. PolygonZone returns a list of polygon coordinates in both NumPy and JSON formats. Copy the NumPy output into the cell below:"
      ]
    },
    {
      "cell_type": "code",
      "execution_count": 17,
      "metadata": {
        "id": "pRDuOeUNOoHT"
      },
      "outputs": [],
      "source": [
        "polygons = [\n",
        "    np.array([[718, 595], [927, 592], [851, 1062], [42, 1059]]),\n",
        "    np.array([[987, 595], [1199, 595], [1893, 1056], [1015, 1062]]),\n",
        "]"
      ]
    },
    {
      "cell_type": "markdown",
      "metadata": {
        "id": "1UgeoGfHIMS6"
      },
      "source": [
        "## Run Inference\n",
        "\n",
        "Using the YOLOv8 model we initialized earlier, as well as our Supervision objects, we can draw polygons on the first frame on our image and count the number of objects that appear.\n",
        "\n",
        "First, let's initialize our zones:"
      ]
    },
    {
      "cell_type": "code",
      "execution_count": 24,
      "metadata": {
        "id": "Xg29HwE1Odmb"
      },
      "outputs": [],
      "source": [
        "# initialize our zones\n",
        "\n",
        "zones = [\n",
        "    sv.PolygonZone(polygon=polygon)  # Remove frame_resolution_wh parameter\n",
        "    for polygon in polygons\n",
        "]\n",
        "zone_annotators = [\n",
        "    sv.PolygonZoneAnnotator(\n",
        "        zone=zone,\n",
        "        color=colors.by_idx(index),\n",
        "        thickness=4,\n",
        "        text_thickness=8,\n",
        "        text_scale=4,\n",
        "    )\n",
        "    for index, zone in enumerate(zones)\n",
        "]\n",
        "box_annotators = [\n",
        "    sv.BoxAnnotator(\n",
        "        color=colors.by_idx(index), \n",
        "        thickness=4\n",
        "    )\n",
        "    for index in range(len(polygons))\n",
        "]\n",
        "\n",
        "\n",
        "def process_frame(frame: np.ndarray, i) -> np.ndarray:\n",
        "    results = model(frame, imgsz=1280, verbose=False)[0]\n",
        "    detections = sv.Detections.from_ultralytics(results)\n",
        "\n",
        "    for zone, zone_annotator, box_annotator in zip(\n",
        "        zones, zone_annotators, box_annotators\n",
        "    ):\n",
        "        mask = zone.trigger(detections=detections)\n",
        "        detections_filtered = detections[mask]\n",
        "        frame = box_annotator.annotate(\n",
        "            scene=frame, detections=detections_filtered\n",
        "        )\n",
        "        frame = zone_annotator.annotate(scene=frame)\n",
        "\n",
        "    return frame"
      ]
    },
    {
      "cell_type": "markdown",
      "metadata": {
        "id": "V9VBrt1SQPoX"
      },
      "source": [
        "Now we can run inference. Let's run inference on a single frame so we can make sure everything is working as expected:"
      ]
    },
    {
      "cell_type": "code",
      "execution_count": 22,
      "metadata": {
        "colab": {
          "base_uri": "https://localhost:8080/",
          "height": 734
        },
        "id": "lJ_CNArWILcg",
        "outputId": "1f2788f4-5883-49fd-be90-dd3fde35f2fe"
      },
      "outputs": [
        {
          "name": "stderr",
          "output_type": "stream",
          "text": [
            "UserWarning: FigureCanvasAgg is non-interactive, and thus cannot be shown\n"
          ]
        }
      ],
      "source": [
        "results = model(frame, imgsz=1280, verbose=False)[0]\n",
        "detections = sv.Detections.from_ultralytics(results)\n",
        "\n",
        "for zone, zone_annotator, box_annotator in zip(zones, zone_annotators, box_annotators):\n",
        "    mask = zone.trigger(detections=detections)\n",
        "    detections_filtered = detections[mask]\n",
        "    frame = box_annotator.annotate(scene=frame, detections=detections_filtered)\n",
        "    frame = zone_annotator.annotate(scene=frame)\n",
        "\n",
        "# Display the frame with matplotlib backend fix\n",
        "import matplotlib.pyplot as plt\n",
        "plt.figure(figsize=(16, 16))\n",
        "plt.imshow(cv2.cvtColor(frame, cv2.COLOR_BGR2RGB))\n",
        "plt.axis('off')\n",
        "plt.title('Polygon Zone Detection Results')\n",
        "plt.tight_layout()\n",
        "plt.show()"
      ]
    },
    {
      "cell_type": "markdown",
      "metadata": {
        "id": "_FSjphrsQVLy"
      },
      "source": [
        "The frame above shows all of the predictions in the polygons we have drawn. Now we can proceed to run inference on the rest of the video."
      ]
    },
    {
      "cell_type": "markdown",
      "metadata": {
        "id": "RNB4TmIyHNzK"
      },
      "source": [
        "## Video Inference\n",
        "\n",
        "Use the code snippet below to run inference on the video you specified earlier and save the results to \"result.mp4\"."
      ]
    },
    {
      "cell_type": "code",
      "execution_count": 25,
      "metadata": {
        "id": "20DObemvCY8c"
      },
      "outputs": [],
      "source": [
        "sv.process_video(source_path=VIDEO, target_path=\"result.mp4\", callback=process_frame)"
      ]
    }
  ],
  "metadata": {
    "accelerator": "GPU",
    "colab": {
      "provenance": []
    },
    "gpuClass": "standard",
    "kernelspec": {
      "display_name": "roboflow_notebooks",
      "language": "python",
      "name": "python3"
    },
    "language_info": {
      "codemirror_mode": {
        "name": "ipython",
        "version": 3
      },
      "file_extension": ".py",
      "mimetype": "text/x-python",
      "name": "python",
      "nbconvert_exporter": "python",
      "pygments_lexer": "ipython3",
      "version": "3.12.10"
    }
  },
  "nbformat": 4,
  "nbformat_minor": 0
}
